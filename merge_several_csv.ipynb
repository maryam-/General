{
 "cells": [
  {
   "cell_type": "markdown",
   "id": "dbc0ad0e",
   "metadata": {},
   "source": [
    "# Merge several csv files in a folder"
   ]
  },
  {
   "cell_type": "code",
   "execution_count": 1,
   "id": "53a577a8",
   "metadata": {},
   "outputs": [],
   "source": [
    "# Import necessary python packages like pandas, glob, and os\n",
    "import pandas as pd\n",
    "import glob\n",
    "import os"
   ]
  },
  {
   "cell_type": "code",
   "execution_count": null,
   "id": "2da88e6a",
   "metadata": {},
   "outputs": [],
   "source": [
    "# use glob to get all the csv files in the folder\n",
    "path = os.getcwd()\n",
    "csv_files = glob.glob(os.path.join(path, \"*.csv\"))"
   ]
  },
  {
   "cell_type": "code",
   "execution_count": null,
   "id": "19978943",
   "metadata": {},
   "outputs": [],
   "source": [
    "# read each file in the folder separately and print the location, filename and content\n",
    "divider_str = \"-\" * 100 # this makes a line for separating files in print \n",
    "for f in csv_files:\n",
    "    print(divider_str)\n",
    "    df = pd.read_csv(f)\n",
    "    print('Location:', f)\n",
    "    print('File Name:', f.split(\"\\\\\")[-1])\n",
    "    print('Content:')\n",
    "    display(df)"
   ]
  },
  {
   "cell_type": "code",
   "execution_count": null,
   "id": "e4d1c90b",
   "metadata": {},
   "outputs": [],
   "source": [
    "# Finally, the files are joined\n",
    "df = pd.concat(map(pd.read_csv, csv_files), ignore_index=True)\n",
    "df.head(2)"
   ]
  },
  {
   "cell_type": "code",
   "execution_count": null,
   "id": "ba4fbcda",
   "metadata": {},
   "outputs": [],
   "source": [
    "# save merged file to a csv\n",
    "df.to_csv('merged.csv', index=False)"
   ]
  }
 ],
 "metadata": {
  "kernelspec": {
   "display_name": "Python 3 (ipykernel)",
   "language": "python",
   "name": "python3"
  },
  "language_info": {
   "codemirror_mode": {
    "name": "ipython",
    "version": 3
   },
   "file_extension": ".py",
   "mimetype": "text/x-python",
   "name": "python",
   "nbconvert_exporter": "python",
   "pygments_lexer": "ipython3",
   "version": "3.9.7"
  }
 },
 "nbformat": 4,
 "nbformat_minor": 5
}
